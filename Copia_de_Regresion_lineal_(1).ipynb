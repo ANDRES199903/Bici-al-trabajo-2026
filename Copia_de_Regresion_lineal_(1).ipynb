{
  "cells": [
    {
      "cell_type": "markdown",
      "metadata": {
        "id": "view-in-github",
        "colab_type": "text"
      },
      "source": [
        "<a href=\"https://colab.research.google.com/github/ANDRES199903/Bici-al-trabajo-2026/blob/main/Copia_de_Regresion_lineal_(1).ipynb\" target=\"_parent\"><img src=\"https://colab.research.google.com/assets/colab-badge.svg\" alt=\"Open In Colab\"/></a>"
      ]
    },
    {
      "cell_type": "markdown",
      "metadata": {
        "id": "Ii_7DdtJH8e2"
      },
      "source": [
        "# Taller 3: Regresión Lineal y Conceptos Fundamentales\n",
        "\n",
        "\n"
      ],
      "id": "Ii_7DdtJH8e2"
    },
    {
      "cell_type": "markdown",
      "metadata": {
        "id": "1KuTZ6PkH8e5"
      },
      "source": [
        "## Instrucciones Generales\n",
        "\n",
        "**Fecha de entrega:** 20 de septiembre.\n",
        "**Tiempo disponible:** Tienen dos clases y el fin de semana para completar el taller.\n",
        "\n",
        "1.  **Trabajo en Grupo:** Este taller se debe realizar en los grupos previamente definidos.\n",
        "2.  **Repositorio en GitHub:** Cada grupo debe crear un repositorio en GitHub.\n",
        "    * Una sola persona del grupo es responsable de crearlo.\n",
        "    * El repositorio debe llamarse **`Regresion_Lineal`**.\n",
        "    * Este archivo debe ser subido al repositorio con el nombre **`Regresion_Lineal.ipynb`**.\n",
        "    * **Alternativa:** Si tienen complicaciones con GitHub, pueden enviar el enlace del cuaderno de Google Colab al aula virtual.\n",
        "3.  **Actividad a Mano (20% de la nota):**\n",
        "    * La asistencia a clase es **obligatoria**.\n",
        "    * Se realizará una actividad práctica de regresión lineal a mano.\n",
        "    * Cada integrante del grupo deberá firmar la hoja de la actividad, la cual constituye el 20% de la nota de este taller."
      ],
      "id": "1KuTZ6PkH8e5"
    },
    {
      "cell_type": "markdown",
      "metadata": {
        "id": "mgaEeFAbH8e7"
      },
      "source": [
        "---"
      ],
      "id": "mgaEeFAbH8e7"
    },
    {
      "cell_type": "markdown",
      "metadata": {
        "id": "et22XL5bH8e7"
      },
      "source": [
        "## **Parte 1: Definición del Problema**\n",
        "\n",
        "Piensa en tu experiencia académica o laboral en un área de operaciones y elige **un problema** relacionado con inventarios, calidad, mantenimiento o productividad.\n",
        "\n",
        "1.  Indica cuál es tu variable dependiente **$Y$** (aquello que quieres predecir o clasificar).\n",
        "2.  Lista entre 3 y 5 variables independientes **$X$** que medirías para predecir $Y$.\n",
        "3.  Especifica si tu problema es de **regresión** (predecir un valor numérico) o de **clasificación**."
      ],
      "id": "et22XL5bH8e7"
    },
    {
      "cell_type": "markdown",
      "metadata": {
        "id": "pxSLPR4AH8e8"
      },
      "source": [
        "**Variable Dependiente:** Productividad (unidades producidas por hora)\n",
        "\n",
        "****\n",
        "\n",
        "**Variables Independiente:**\n",
        "\n",
        "**Respuesta 1:** Tiempo promedio de ciclo de la máquina (segundos por unidad).\n",
        "\n",
        "\n",
        "**Respuesta 2:** Número de operarios asignados en la línea.\n",
        "\n",
        "\n",
        "**Respuesta 3:** Consumo de energía de la máquina (kWh).\n",
        "\n",
        "****\n",
        "Este es un problema de regresión, ya que el objetivo es predecir un valor numérico (productividad)."
      ],
      "id": "pxSLPR4AH8e8"
    },
    {
      "cell_type": "markdown",
      "metadata": {
        "id": "fGoj1KxxH8e8"
      },
      "source": [
        "---"
      ],
      "id": "fGoj1KxxH8e8"
    },
    {
      "cell_type": "markdown",
      "metadata": {
        "id": "eHOtOSQiH8e9"
      },
      "source": [
        "## **Parte 2: Preprocesamiento de Datos y *Leakage***\n",
        "\n",
        "Basado en el caso que definiste en la Parte 1:\n",
        "\n",
        "1.  Lista entre 3 y 5 **transformaciones** que aplicarías a tus datos (ej. imputación de valores faltantes, codificación de variables categóricas, escalado, creación de *lags*, etc.) y **justifica por qué** cada una es necesaria.\n",
        "2.  Señala un posible riesgo de ***data leakage*** (fuga de datos) en tu plan y explica cómo lo evitarías usando un *pipeline* de preprocesamiento."
      ],
      "id": "eHOtOSQiH8e9"
    },
    {
      "cell_type": "markdown",
      "metadata": {
        "id": "6KYkmr9mH8e9"
      },
      "source": [
        "**Transformaciones que aplicaría a los datos**\n",
        "\n",
        "**Imputación de valores faltantes:** si algunas observaciones no registraron consumo de energía o tiempos de ciclo, imputaría con la media o mediana según corresponda. Esto es necesario porque los modelos de regresión no pueden trabajar con datos nulos.\n",
        "\n",
        "**Escalado de variables:** el consumo de energía (kWh) puede tener un rango mucho más grande que el porcentaje de paradas; usaría escalado estándar (z-score) para que todas las variables tengan el mismo peso en el modelo.\n",
        "\n",
        "**Detección y tratamiento de outliers:** revisar valores extremos en productividad o paradas no programadas (por ejemplo, una jornada con 0% paradas o con 80%) para evitar que distorsionen el ajuste.\n",
        "\n",
        "**Codificación de variables categóricas (si existieran):** si hubiera una variable como \"turno de trabajo\" (día/noche), la transformaría en variables dummy.\n",
        "\n",
        "**Creación de variables derivadas:** por ejemplo, crear un ratio de productividad por operario (unidades/hora/operario), que puede ser más representativo que la productividad total.\n",
        "\n",
        "****\n",
        "**Transformaciones que aplicaría a los datos**\n",
        "\n",
        "Un riesgo sería usar información que en la práctica no estaría disponible al momento de predecir. Por ejemplo, si calculo la productividad futura usando el total de unidades producidas al final de la jornada, estoy filtrando información del futuro."
      ],
      "id": "6KYkmr9mH8e9"
    },
    {
      "cell_type": "markdown",
      "metadata": {
        "id": "hbyCKrY6H8e-"
      },
      "source": [
        "---"
      ],
      "id": "hbyCKrY6H8e-"
    },
    {
      "cell_type": "markdown",
      "metadata": {
        "id": "ukCTM2EKH8e-"
      },
      "source": [
        "## **Parte 3: Interpretación y Métricas de Regresión Simple**\n",
        "\n",
        "Para esta sección, elige un caso simple de regresión (puede ser el tuyo o uno hipotético, como predecir la demanda de un producto según su precio).\n",
        "\n",
        "1.  Define claramente las variables **$Y$** y **$X$** junto con sus **unidades** (ej. $Y$: número de unidades vendidas, $X$: precio en dólares).\n",
        "2.  Supón que entrenas un modelo y obtienes una pendiente de **$\\hat{\\beta}_1 = -0.6$**. Escribe una interpretación clara y concisa de este coeficiente en el contexto de tu problema.\n",
        "3.  ¿Qué **métrica** de evaluación usarías (MAE, RMSE, o MAPE) y **por qué** es la más adecuada para tu caso?\n",
        "4.  Menciona **un supuesto** del modelo de regresión lineal que validarías (ej. linealidad, homocedasticidad) y explica **cómo** lo harías (usando un gráfico o una prueba estadística)."
      ],
      "id": "ukCTM2EKH8e-"
    },
    {
      "cell_type": "markdown",
      "metadata": {
        "id": "5KGzW8pSH8e_"
      },
      "source": [
        "1. **Variables:**\n",
        "   - $Y$: Demanda de un producto (unidades vendidas por semana).  \n",
        "   - $X$: Precio del producto (en dólares).  \n",
        "\n",
        "2. **Interpretación de la pendiente $\\hat{\\beta}_1 = -0.6$:**\n",
        "\n",
        "   Por cada aumento de **1 dólar** en el precio, la demanda esperada disminuye en **0.6 unidades**, manteniendo lo demás constante.\n",
        "\n",
        "3. **Métrica de evaluación:**\n",
        "\n",
        "   Se usaría **RMSE (Error Cuadrático Medio de la Raíz)** porque penaliza más los errores grandes y es útil cuando los valores extremos afectan las decisiones de negocio.\n",
        "\n",
        "4. **Supuesto a validar:**\n",
        "\n",
        "   - **Linealidad.**  \n",
        "   Se validaría con un **diagrama de dispersión de $Y$ vs $X$** y la recta ajustada; si los puntos siguen un patrón aproximadamente recto, el supuesto se cumple.\n"
      ],
      "id": "5KGzW8pSH8e_"
    },
    {
      "cell_type": "markdown",
      "metadata": {
        "id": "NlCf92svH8e_"
      },
      "source": [
        "---"
      ],
      "id": "NlCf92svH8e_"
    },
    {
      "cell_type": "markdown",
      "metadata": {
        "id": "DEOrd_fSH8e_"
      },
      "source": [
        "## **Parte 4: Regresión Múltiple y Colinealidad**\n",
        "\n",
        "Volviendo a tu caso de la Parte 1 (con múltiples variables).\n",
        "\n",
        "1.  Escribe el **vector de variables** $\\vec{X}$ y la **respuesta** $Y$.\n",
        "2.  Explica cómo interpretarías el **coeficiente** de una de tus variables clave (incluyendo unidades y el sentido de la relación: positiva o negativa).\n",
        "3.  Si sospecharas que existe **colinealidad** entre tus variables, menciona **dos acciones** que podrías tomar para mitigarla."
      ],
      "id": "DEOrd_fSH8e_"
    },
    {
      "cell_type": "markdown",
      "metadata": {
        "id": "REUWPUP_H8fA"
      },
      "source": [
        "1. **Vector de variables y respuesta:**\n",
        "\n",
        "   - $Y$: Productividad (unidades producidas por hora).  \n",
        "   - $\\vec{X} = (X_1, X_2, X_3, X_4)$  \n",
        "     - $X_1$: Tiempo de ciclo de la máquina (segundos/unidad).  \n",
        "     - $X_2$: Número de operarios.  \n",
        "     - $X_3$: Porcentaje de paradas no programadas (%).  \n",
        "     - $X_4$: Consumo de energía (kWh).  \n",
        "\n",
        "2. **Interpretación de un coeficiente (ejemplo con $X_2$):**\n",
        "\n",
        "   Si $\\beta_2 = 3.5$, entonces un aumento de **1 operario** incrementa la productividad en **3.5 unidades/hora**, manteniendo las demás variables constantes.\n",
        "\n",
        "3. **Acciones contra colinealidad:**\n",
        "\n",
        "   - Eliminar una de las variables con alta correlación.  \n",
        "   - Aplicar técnicas de regularización como **Ridge o Lasso**.\n"
      ],
      "id": "REUWPUP_H8fA"
    },
    {
      "cell_type": "markdown",
      "metadata": {
        "id": "Kfz2bBkzH8fA"
      },
      "source": [
        "---"
      ],
      "id": "Kfz2bBkzH8fA"
    },
    {
      "cell_type": "markdown",
      "metadata": {
        "id": "d0sQYW3DH8fA"
      },
      "source": [
        "## **Parte 5: Interacciones y Multicolinealidad (VIF)**\n",
        "\n",
        "1.  Plantea un caso con una variable $Y$ y entre 4 y 6 variables $X$. ¿Qué término de **interacción** entre dos variables podrías añadir al modelo y **por qué** crees que sería útil?\n",
        "2.  Si al calcular el Factor de Inflación de la Varianza (VIF) para una variable, obtienes un valor alto (ej. > 10), menciona **dos acciones** que podrías tomar para solucionarlo."
      ],
      "id": "d0sQYW3DH8fA"
    },
    {
      "cell_type": "markdown",
      "metadata": {
        "id": "tEgefQ1cH8fA"
      },
      "source": [
        "1. **Caso con interacciones:**\n",
        "\n",
        "   Supongamos:  \n",
        "   - $Y$: Productividad.  \n",
        "   - $X_1$: Operarios.  \n",
        "   - $X_2$: Tiempo de ciclo.  \n",
        "   - $X_3$: Paradas no programadas.  \n",
        "   - $X_4$: Consumo de energía.  \n",
        "   - $X_5$: Turno (día/noche).  \n",
        "\n",
        "   Un término de interacción útil sería:  \n",
        "   $X_2 \\times X_3$ (tiempo de ciclo * paradas), porque el efecto de ciclos largos puede ser peor cuando hay muchas paradas no programadas.\n",
        "\n",
        "2. **Si el VIF > 10:**\n",
        "\n",
        "   - Eliminar o combinar variables correlacionadas.  \n",
        "   - Usar **PCA (Análisis de Componentes Principales)** para reducir la dimensionalidad."
      ],
      "id": "tEgefQ1cH8fA"
    },
    {
      "cell_type": "markdown",
      "metadata": {
        "id": "8XdQIyu_H8fB"
      },
      "source": [
        "---"
      ],
      "id": "8XdQIyu_H8fB"
    },
    {
      "cell_type": "markdown",
      "metadata": {
        "id": "XKsr-uPlH8fB"
      },
      "source": [
        "## **Parte 6: Variables Categóricas e Interacciones**\n",
        "\n",
        "1.  Define una **variable categórica** para tu caso (puedes inventarla si no la tenías). Elige una de sus categorías como el nivel **base** o de referencia y **justifica** tu elección.\n",
        "2.  Crea una **interacción** entre una variable numérica y la variable categórica que definiste. Explica cómo se interpretaría el coeficiente de esta interacción."
      ],
      "id": "XKsr-uPlH8fB"
    },
    {
      "cell_type": "markdown",
      "metadata": {
        "id": "7i_JBwwbH8fC"
      },
      "source": [
        "**Variable categórica:**\n",
        "\n",
        "“Turno de trabajo” con categorías: Día y Noche.\n",
        "Elijo Turno de Día como base porque suele ser el más común y sirve como referencia natural.\n",
        "\n",
        "****\n",
        "\n",
        "**Interacción:**\n",
        "\n",
        "Interacción entre número de operarios (X2) y turno de trabajo.\n",
        "\n",
        "Si el coeficiente de la interacción es positivo, significaría que aumentar el número de operarios en el turno de noche incrementa la productividad aún más que en el turno de día."
      ],
      "id": "7i_JBwwbH8fC"
    },
    {
      "cell_type": "markdown",
      "metadata": {
        "id": "DjYrQWpqH8fC"
      },
      "source": [
        "---"
      ],
      "id": "DjYrQWpqH8fC"
    },
    {
      "cell_type": "markdown",
      "metadata": {
        "id": "mG9YJpeoH8fC"
      },
      "source": [
        "## **Parte 7: Conceptos Clave de Clasificación**\n",
        "\n",
        "Aunque el taller se centra en regresión, estos conceptos son fundamentales en Machine Learning.\n",
        "\n",
        "1.  Explica qué es la **curva ROC** y para qué se utiliza en un problema de clasificación.\n",
        "2.  Define el concepto de **accuracy** (exactitud) y menciona una situación en la que podría ser una métrica engañosa.\n",
        "3.  Describe qué es una **matriz de confusión** y cómo se interpretan sus componentes (Verdaderos Positivos, Falsos Positivos, Verdaderos Negativos, Falsos Negativos)."
      ],
      "id": "mG9YJpeoH8fC"
    },
    {
      "cell_type": "markdown",
      "metadata": {
        "id": "aq-cYN3nH8fD"
      },
      "source": [
        "**Curva ROC:**\n",
        "Es un gráfico que muestra la relación entre la tasa de verdaderos positivos (TPR) y la tasa de falsos positivos (FPR) para distintos umbrales. Se usa para evaluar la capacidad de un modelo de clasificación de distinguir entre clases.\n",
        "\n",
        "****\n",
        "\n",
        "**Accuracy (exactitud):**\n",
        "Es la proporción de predicciones correctas sobre el total.\n",
        "\n",
        "Ejemplo engañoso: en un dataset con 95% de clientes que no abandonan y solo 5% que sí abandonan, un modelo que predice siempre “no abandona” tendría 95% de accuracy, pero no sirve para detectar los que sí abandonan.\n",
        "\n",
        "****\n",
        "\n",
        "**Matriz de confusión:**\n",
        "Es una tabla que compara las predicciones del modelo con los valores reales:\n",
        "\n",
        "Verdaderos Positivos (TP): el modelo predijo “sí” y era “sí”.\n",
        "\n",
        "Falsos Positivos (FP): el modelo predijo “sí” pero era “no”.\n",
        "\n",
        "Verdaderos Negativos (TN): el modelo predijo “no” y era “no”.\n",
        "\n",
        "Falsos Negativos (FN): el modelo predijo “no” pero era “sí”.\n",
        "\n",
        "Esta matriz ayuda a calcular métricas como precisión, recall y F1-score."
      ],
      "id": "aq-cYN3nH8fD"
    }
  ],
  "metadata": {
    "kernelspec": {
      "display_name": "Python 3",
      "language": "python",
      "name": "python3"
    },
    "language_info": {
      "name": "python",
      "version": "3.x"
    },
    "colab": {
      "provenance": [],
      "include_colab_link": true
    }
  },
  "nbformat": 4,
  "nbformat_minor": 5
}